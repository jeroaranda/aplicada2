{
 "cells": [
  {
   "cell_type": "code",
   "execution_count": 2,
   "metadata": {
    "colab": {
     "base_uri": "https://localhost:8080/",
     "height": 198
    },
    "colab_type": "code",
    "id": "3U_7Mx2sxIpT",
    "outputId": "7be24031-ea48-423b-c18a-bd71a974c36a"
   },
   "outputs": [],
   "source": [
    "import io\n",
    "import pandas as pd\n"
   ]
  },
  {
   "cell_type": "code",
   "execution_count": 25,
   "metadata": {
    "colab": {},
    "colab_type": "code",
    "id": "6M0It85Rzhaf",
    "scrolled": true
   },
   "outputs": [
    {
     "data": {
      "text/html": [
       "<div>\n",
       "<style scoped>\n",
       "    .dataframe tbody tr th:only-of-type {\n",
       "        vertical-align: middle;\n",
       "    }\n",
       "\n",
       "    .dataframe tbody tr th {\n",
       "        vertical-align: top;\n",
       "    }\n",
       "\n",
       "    .dataframe thead th {\n",
       "        text-align: right;\n",
       "    }\n",
       "</style>\n",
       "<table border=\"1\" class=\"dataframe\">\n",
       "  <thead>\n",
       "    <tr style=\"text-align: right;\">\n",
       "      <th></th>\n",
       "      <th>ocupacion</th>\n",
       "      <th>educacion</th>\n",
       "      <th>ingreso</th>\n",
       "      <th>mujeres</th>\n",
       "      <th>prestigio</th>\n",
       "      <th>censo</th>\n",
       "      <th>tipo</th>\n",
       "    </tr>\n",
       "  </thead>\n",
       "  <tbody>\n",
       "    <tr>\n",
       "      <th>0</th>\n",
       "      <td>GOV.ADMINISTRATORS</td>\n",
       "      <td>13.11</td>\n",
       "      <td>12351</td>\n",
       "      <td>11.16</td>\n",
       "      <td>68.8</td>\n",
       "      <td>1113</td>\n",
       "      <td>prof</td>\n",
       "    </tr>\n",
       "    <tr>\n",
       "      <th>1</th>\n",
       "      <td>GENERAL.MANAGERS</td>\n",
       "      <td>12.26</td>\n",
       "      <td>25879</td>\n",
       "      <td>4.02</td>\n",
       "      <td>69.1</td>\n",
       "      <td>1130</td>\n",
       "      <td>prof</td>\n",
       "    </tr>\n",
       "    <tr>\n",
       "      <th>2</th>\n",
       "      <td>ACCOUNTANTS</td>\n",
       "      <td>12.77</td>\n",
       "      <td>9271</td>\n",
       "      <td>15.70</td>\n",
       "      <td>63.4</td>\n",
       "      <td>1171</td>\n",
       "      <td>prof</td>\n",
       "    </tr>\n",
       "    <tr>\n",
       "      <th>3</th>\n",
       "      <td>PURCHASING.OFFICERS</td>\n",
       "      <td>11.42</td>\n",
       "      <td>8865</td>\n",
       "      <td>9.11</td>\n",
       "      <td>56.8</td>\n",
       "      <td>1175</td>\n",
       "      <td>prof</td>\n",
       "    </tr>\n",
       "    <tr>\n",
       "      <th>4</th>\n",
       "      <td>CHEMISTS</td>\n",
       "      <td>14.62</td>\n",
       "      <td>8403</td>\n",
       "      <td>11.68</td>\n",
       "      <td>73.5</td>\n",
       "      <td>2111</td>\n",
       "      <td>prof</td>\n",
       "    </tr>\n",
       "  </tbody>\n",
       "</table>\n",
       "</div>"
      ],
      "text/plain": [
       "             ocupacion  educacion  ingreso  mujeres  prestigio  censo  tipo\n",
       "0   GOV.ADMINISTRATORS      13.11    12351    11.16       68.8   1113  prof\n",
       "1     GENERAL.MANAGERS      12.26    25879     4.02       69.1   1130  prof\n",
       "2          ACCOUNTANTS      12.77     9271    15.70       63.4   1171  prof\n",
       "3  PURCHASING.OFFICERS      11.42     8865     9.11       56.8   1175  prof\n",
       "4             CHEMISTS      14.62     8403    11.68       73.5   2111  prof"
      ]
     },
     "execution_count": 25,
     "metadata": {},
     "output_type": "execute_result"
    }
   ],
   "source": [
    "df = pd.read_table(\"lista01.dat\", sep=\"\\s+\", usecols=['ocupacion', 'educacion','ingreso','mujeres','prestigio','censo','tipo'])\n",
    "df.head()"
   ]
  },
  {
   "cell_type": "markdown",
   "metadata": {
    "colab_type": "text",
    "id": "uPmcSahcoMRS"
   },
   "source": [
    "# Control 1\n",
    "## Descripción y Análisis Exploratorio de Datos\n",
    "Jorge Rotter  \n",
    "Emiliano Zambrano 157043  \n",
    "Jerónimo Aranda 150344  \n",
    "\n",
    "### Análisis Exploratorio\n"
   ]
  },
  {
   "cell_type": "code",
   "execution_count": 29,
   "metadata": {},
   "outputs": [
    {
     "data": {
      "text/html": [
       "<div>\n",
       "<style scoped>\n",
       "    .dataframe tbody tr th:only-of-type {\n",
       "        vertical-align: middle;\n",
       "    }\n",
       "\n",
       "    .dataframe tbody tr th {\n",
       "        vertical-align: top;\n",
       "    }\n",
       "\n",
       "    .dataframe thead th {\n",
       "        text-align: right;\n",
       "    }\n",
       "</style>\n",
       "<table border=\"1\" class=\"dataframe\">\n",
       "  <thead>\n",
       "    <tr style=\"text-align: right;\">\n",
       "      <th></th>\n",
       "      <th>ocupacion</th>\n",
       "      <th>educacion</th>\n",
       "      <th>ingreso</th>\n",
       "      <th>mujeres</th>\n",
       "      <th>prestigio</th>\n",
       "      <th>censo</th>\n",
       "      <th>tipo</th>\n",
       "      <th>tipo_numeric</th>\n",
       "    </tr>\n",
       "  </thead>\n",
       "  <tbody>\n",
       "    <tr>\n",
       "      <th>0</th>\n",
       "      <td>GOV.ADMINISTRATORS</td>\n",
       "      <td>13.11</td>\n",
       "      <td>12351</td>\n",
       "      <td>11.16</td>\n",
       "      <td>68.8</td>\n",
       "      <td>1113</td>\n",
       "      <td>prof</td>\n",
       "      <td>2.0</td>\n",
       "    </tr>\n",
       "    <tr>\n",
       "      <th>1</th>\n",
       "      <td>GENERAL.MANAGERS</td>\n",
       "      <td>12.26</td>\n",
       "      <td>25879</td>\n",
       "      <td>4.02</td>\n",
       "      <td>69.1</td>\n",
       "      <td>1130</td>\n",
       "      <td>prof</td>\n",
       "      <td>2.0</td>\n",
       "    </tr>\n",
       "    <tr>\n",
       "      <th>2</th>\n",
       "      <td>ACCOUNTANTS</td>\n",
       "      <td>12.77</td>\n",
       "      <td>9271</td>\n",
       "      <td>15.70</td>\n",
       "      <td>63.4</td>\n",
       "      <td>1171</td>\n",
       "      <td>prof</td>\n",
       "      <td>2.0</td>\n",
       "    </tr>\n",
       "    <tr>\n",
       "      <th>3</th>\n",
       "      <td>PURCHASING.OFFICERS</td>\n",
       "      <td>11.42</td>\n",
       "      <td>8865</td>\n",
       "      <td>9.11</td>\n",
       "      <td>56.8</td>\n",
       "      <td>1175</td>\n",
       "      <td>prof</td>\n",
       "      <td>2.0</td>\n",
       "    </tr>\n",
       "    <tr>\n",
       "      <th>4</th>\n",
       "      <td>CHEMISTS</td>\n",
       "      <td>14.62</td>\n",
       "      <td>8403</td>\n",
       "      <td>11.68</td>\n",
       "      <td>73.5</td>\n",
       "      <td>2111</td>\n",
       "      <td>prof</td>\n",
       "      <td>2.0</td>\n",
       "    </tr>\n",
       "  </tbody>\n",
       "</table>\n",
       "</div>"
      ],
      "text/plain": [
       "             ocupacion  educacion  ingreso  mujeres  prestigio  censo  tipo  \\\n",
       "0   GOV.ADMINISTRATORS      13.11    12351    11.16       68.8   1113  prof   \n",
       "1     GENERAL.MANAGERS      12.26    25879     4.02       69.1   1130  prof   \n",
       "2          ACCOUNTANTS      12.77     9271    15.70       63.4   1171  prof   \n",
       "3  PURCHASING.OFFICERS      11.42     8865     9.11       56.8   1175  prof   \n",
       "4             CHEMISTS      14.62     8403    11.68       73.5   2111  prof   \n",
       "\n",
       "   tipo_numeric  \n",
       "0           2.0  \n",
       "1           2.0  \n",
       "2           2.0  \n",
       "3           2.0  \n",
       "4           2.0  "
      ]
     },
     "execution_count": 29,
     "metadata": {},
     "output_type": "execute_result"
    }
   ],
   "source": [
    "tipo_to_numeric={'prof':2,'bc':0,'wc':1}\n",
    "df['tipo_numeric']=df['tipo'].map(tipo_to_numeric)\n",
    "df.head()"
   ]
  },
  {
   "cell_type": "code",
   "execution_count": 10,
   "metadata": {
    "colab": {},
    "colab_type": "code",
    "id": "iypNJ7tHppKz"
   },
   "outputs": [
    {
     "data": {
      "text/plain": [
       "<matplotlib.axes._subplots.AxesSubplot at 0x1235e0358>"
      ]
     },
     "execution_count": 10,
     "metadata": {},
     "output_type": "execute_result"
    },
    {
     "data": {
      "image/png": "[encoded data removed]",
      "text/plain": [
       "<Figure size 432x288 with 2 Axes>"
      ]
     },
     "metadata": {
      "needs_background": "light"
     },
     "output_type": "display_data"
    }
   ],
   "source": [
    "df.plot.scatter(x='educacion',y='ingreso',c='prestigio',colormap='viridis')"
   ]
  },
  {
   "cell_type": "markdown",
   "metadata": {},
   "source": [
    "Para empezar, el ingreso es creciente con respecto a la educación. Asimismo, mientras el nivel de educación crece, las ocupaciones se consideran más prestigiosas. Luego, el prestigio crece mientras el nivel de ingreso es mayor. También, los datos muestran que las ocupaciones con alto nivel de ingreso, educación y prestigio son escasas. "
   ]
  },
  {
   "cell_type": "code",
   "execution_count": 11,
   "metadata": {},
   "outputs": [
    {
     "data": {
      "text/plain": [
       "<matplotlib.axes._subplots.AxesSubplot at 0x12364eac8>"
      ]
     },
     "execution_count": 11,
     "metadata": {},
     "output_type": "execute_result"
    },
    {
     "data": {
      "image/png": "[encoded data removed]",
      "text/plain": [
       "<Figure size 432x288 with 2 Axes>"
      ]
     },
     "metadata": {
      "needs_background": "light"
     },
     "output_type": "display_data"
    }
   ],
   "source": [
    "df.plot.scatter(x='mujeres',y='ingreso',c='prestigio',colormap='viridis')"
   ]
  },
  {
   "cell_type": "markdown",
   "metadata": {},
   "source": [
    "El ingreso tiene una ligera tendencia decreciente a medida que el porcentaje de mujeres en la ocupación crece. Los datos no muestran una relación marcada entre el porcentaje de mujeres y el prestigio. Sin embargo, se observa que la cantidad de ocupaciones con alto nivel de prestigio es decreciente con respecto a la mujeres en la ocupación; es decir, a mayor porcentaje de mujeres se observa una caída en la cantidad de ocupaciones con prestigio mayor a 50. También, vale la pena destacar la acumulación de ocupaciones con un bajo porcentaje de mujeres, en particular aquellas con ingreso mayor a 5000 y prestigio mayor a 60."
   ]
  },
  {
   "cell_type": "code",
   "execution_count": 15,
   "metadata": {},
   "outputs": [
    {
     "data": {
      "text/plain": [
       "<matplotlib.axes._subplots.AxesSubplot at 0x1237a3940>"
      ]
     },
     "execution_count": 15,
     "metadata": {},
     "output_type": "execute_result"
    },
    {
     "data": {
      "image/png": "[encoded data removed]",
      "text/plain": [
       "<Figure size 432x288 with 1 Axes>"
      ]
     },
     "metadata": {
      "needs_background": "light"
     },
     "output_type": "display_data"
    }
   ],
   "source": [
    "df.boxplot(column=['ingreso'])"
   ]
  },
  {
   "cell_type": "markdown",
   "metadata": {},
   "source": [
    "La mitad de las ocupaciones generan un ingreso de 6000 o menos, mientras que 5 ocupaciones generan 15000 o más. Las dos ocupaciones con mayor ingreso generan por lo menos 4.5 veces más que la mitad de todas las ocupaciones. Asimismo, el 75% de los trabajos generan a los más una tercera parte de lo que ingresan los dos mejor remunerados."
   ]
  },
  {
   "cell_type": "code",
   "execution_count": 16,
   "metadata": {},
   "outputs": [
    {
     "data": {
      "text/plain": [
       "<matplotlib.axes._subplots.AxesSubplot at 0x12397a978>"
      ]
     },
     "execution_count": 16,
     "metadata": {},
     "output_type": "execute_result"
    },
    {
     "data": {
      "image/png": "[encoded data removed]",
      "text/plain": [
       "<Figure size 432x288 with 1 Axes>"
      ]
     },
     "metadata": {
      "needs_background": "light"
     },
     "output_type": "display_data"
    }
   ],
   "source": [
    "df.boxplot(column=['educacion','mujeres','prestigio'])"
   ]
  },
  {
   "cell_type": "code",
   "execution_count": 30,
   "metadata": {},
   "outputs": [
    {
     "data": {
      "text/plain": [
       "<matplotlib.axes._subplots.AxesSubplot at 0x120a39ba8>"
      ]
     },
     "execution_count": 30,
     "metadata": {},
     "output_type": "execute_result"
    },
    {
     "data": {
      "image/png": "[encoded data removed]",
      "text/plain": [
       "<Figure size 432x288 with 2 Axes>"
      ]
     },
     "metadata": {
      "needs_background": "light"
     },
     "output_type": "display_data"
    }
   ],
   "source": [
    "df.plot.scatter(x='tipo_numeric',y='ingreso',c='prestigio',colormap='viridis')"
   ]
  },
  {
   "cell_type": "markdown",
   "metadata": {
    "colab_type": "text",
    "id": "rw__i8gNrbAn"
   },
   "source": [
    "### Clasificación de variables"
   ]
  },
  {
   "cell_type": "code",
   "execution_count": 7,
   "metadata": {
    "colab": {},
    "colab_type": "code",
    "id": "tinXDkbrreV-"
   },
   "outputs": [
    {
     "name": "stdout",
     "output_type": "stream",
     "text": [
      "Index(['ocupacion', 'educacion', 'ingreso', 'mujeres', 'prestigio', 'censo',\n",
      "       'tipo'],\n",
      "      dtype='object')\n"
     ]
    }
   ],
   "source": [
    "print(df.columns)"
   ]
  },
  {
   "cell_type": "code",
   "execution_count": 8,
   "metadata": {},
   "outputs": [
    {
     "name": "stdout",
     "output_type": "stream",
     "text": [
      "ocupacion     object\n",
      "educacion    float64\n",
      "ingreso        int64\n",
      "mujeres      float64\n",
      "prestigio    float64\n",
      "censo          int64\n",
      "tipo          object\n",
      "dtype: object\n"
     ]
    }
   ],
   "source": [
    "print(df.dtypes)"
   ]
  },
  {
   "cell_type": "markdown",
   "metadata": {
    "colab_type": "text",
    "id": "EPTo9mrhrez2"
   },
   "source": [
    "### Conclusiones"
   ]
  },
  {
   "cell_type": "code",
   "execution_count": 0,
   "metadata": {
    "colab": {},
    "colab_type": "code",
    "id": "sUP8E_Z5rh02"
   },
   "outputs": [],
   "source": []
  }
 ],
 "metadata": {
  "colab": {
   "collapsed_sections": [],
   "name": "control1.ipynb",
   "provenance": [],
   "version": "0.3.2"
  },
  "kernelspec": {
   "display_name": "Python 3",
   "language": "python",
   "name": "python3"
  },
  "language_info": {
   "codemirror_mode": {
    "name": "ipython",
    "version": 3
   },
   "file_extension": ".py",
   "mimetype": "text/x-python",
   "name": "python",
   "nbconvert_exporter": "python",
   "pygments_lexer": "ipython3",
   "version": "3.7.3"
  }
 },
 "nbformat": 4,
 "nbformat_minor": 1
}
