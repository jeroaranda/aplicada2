{
 "cells": [
  {
   "cell_type": "code",
   "execution_count": 268,
   "metadata": {},
   "outputs": [],
   "source": [
    "import pandas as pd\n",
    "from statsmodels.formula.api import ols\n",
    "from statsmodels.api import stats, graphics\n",
    "import numpy as np\n",
    "import warnings\n",
    "warnings.filterwarnings(\"ignore\")"
   ]
  },
  {
   "cell_type": "markdown",
   "metadata": {},
   "source": [
    "## Ejercicio 10"
   ]
  },
  {
   "cell_type": "code",
   "execution_count": 96,
   "metadata": {},
   "outputs": [
    {
     "data": {
      "text/html": [
       "<table class=\"simpletable\">\n",
       "<caption>OLS Regression Results</caption>\n",
       "<tr>\n",
       "  <th>Dep. Variable:</th>          <td>renta</td>      <th>  R-squared:         </th> <td>   0.592</td>\n",
       "</tr>\n",
       "<tr>\n",
       "  <th>Model:</th>                   <td>OLS</td>       <th>  Adj. R-squared:    </th> <td>   0.545</td>\n",
       "</tr>\n",
       "<tr>\n",
       "  <th>Method:</th>             <td>Least Squares</td>  <th>  F-statistic:       </th> <td>   12.68</td>\n",
       "</tr>\n",
       "<tr>\n",
       "  <th>Date:</th>             <td>Wed, 04 Dec 2019</td> <th>  Prob (F-statistic):</th> <td>1.77e-06</td>\n",
       "</tr>\n",
       "<tr>\n",
       "  <th>Time:</th>                 <td>17:51:07</td>     <th>  Log-Likelihood:    </th> <td> -153.46</td>\n",
       "</tr>\n",
       "<tr>\n",
       "  <th>No. Observations:</th>      <td>    40</td>      <th>  AIC:               </th> <td>   316.9</td>\n",
       "</tr>\n",
       "<tr>\n",
       "  <th>Df Residuals:</th>          <td>    35</td>      <th>  BIC:               </th> <td>   325.4</td>\n",
       "</tr>\n",
       "<tr>\n",
       "  <th>Df Model:</th>              <td>     4</td>      <th>                     </th>     <td> </td>   \n",
       "</tr>\n",
       "<tr>\n",
       "  <th>Covariance Type:</th>      <td>nonrobust</td>    <th>                     </th>     <td> </td>   \n",
       "</tr>\n",
       "</table>\n",
       "<table class=\"simpletable\">\n",
       "<tr>\n",
       "      <td></td>         <th>coef</th>     <th>std err</th>      <th>t</th>      <th>P>|t|</th>  <th>[0.025</th>    <th>0.975]</th>  \n",
       "</tr>\n",
       "<tr>\n",
       "  <th>Intercept</th> <td>    9.8057</td> <td>   10.326</td> <td>    0.950</td> <td> 0.349</td> <td>  -11.158</td> <td>   30.769</td>\n",
       "</tr>\n",
       "<tr>\n",
       "  <th>ninos</th>     <td>   -4.9143</td> <td>    2.735</td> <td>   -1.797</td> <td> 0.081</td> <td>  -10.466</td> <td>    0.638</td>\n",
       "</tr>\n",
       "<tr>\n",
       "  <th>adultos</th>   <td>    2.6401</td> <td>    2.442</td> <td>    1.081</td> <td> 0.287</td> <td>   -2.318</td> <td>    7.598</td>\n",
       "</tr>\n",
       "<tr>\n",
       "  <th>tvtot</th>     <td>    0.4505</td> <td>    0.114</td> <td>    3.936</td> <td> 0.000</td> <td>    0.218</td> <td>    0.683</td>\n",
       "</tr>\n",
       "<tr>\n",
       "  <th>valor</th>     <td>    0.0001</td> <td> 3.14e-05</td> <td>    4.135</td> <td> 0.000</td> <td> 6.61e-05</td> <td>    0.000</td>\n",
       "</tr>\n",
       "</table>\n",
       "<table class=\"simpletable\">\n",
       "<tr>\n",
       "  <th>Omnibus:</th>       <td> 0.009</td> <th>  Durbin-Watson:     </th> <td>   2.056</td>\n",
       "</tr>\n",
       "<tr>\n",
       "  <th>Prob(Omnibus):</th> <td> 0.995</td> <th>  Jarque-Bera (JB):  </th> <td>   0.138</td>\n",
       "</tr>\n",
       "<tr>\n",
       "  <th>Skew:</th>          <td> 0.033</td> <th>  Prob(JB):          </th> <td>   0.933</td>\n",
       "</tr>\n",
       "<tr>\n",
       "  <th>Kurtosis:</th>      <td> 2.719</td> <th>  Cond. No.          </th> <td>1.33e+06</td>\n",
       "</tr>\n",
       "</table><br/><br/>Warnings:<br/>[1] Standard Errors assume that the covariance matrix of the errors is correctly specified.<br/>[2] The condition number is large, 1.33e+06. This might indicate that there are<br/>strong multicollinearity or other numerical problems."
      ],
      "text/plain": [
       "<class 'statsmodels.iolib.summary.Summary'>\n",
       "\"\"\"\n",
       "                            OLS Regression Results                            \n",
       "==============================================================================\n",
       "Dep. Variable:                  renta   R-squared:                       0.592\n",
       "Model:                            OLS   Adj. R-squared:                  0.545\n",
       "Method:                 Least Squares   F-statistic:                     12.68\n",
       "Date:                Wed, 04 Dec 2019   Prob (F-statistic):           1.77e-06\n",
       "Time:                        17:51:07   Log-Likelihood:                -153.46\n",
       "No. Observations:                  40   AIC:                             316.9\n",
       "Df Residuals:                      35   BIC:                             325.4\n",
       "Df Model:                           4                                         \n",
       "Covariance Type:            nonrobust                                         \n",
       "==============================================================================\n",
       "                 coef    std err          t      P>|t|      [0.025      0.975]\n",
       "------------------------------------------------------------------------------\n",
       "Intercept      9.8057     10.326      0.950      0.349     -11.158      30.769\n",
       "ninos         -4.9143      2.735     -1.797      0.081     -10.466       0.638\n",
       "adultos        2.6401      2.442      1.081      0.287      -2.318       7.598\n",
       "tvtot          0.4505      0.114      3.936      0.000       0.218       0.683\n",
       "valor          0.0001   3.14e-05      4.135      0.000    6.61e-05       0.000\n",
       "==============================================================================\n",
       "Omnibus:                        0.009   Durbin-Watson:                   2.056\n",
       "Prob(Omnibus):                  0.995   Jarque-Bera (JB):                0.138\n",
       "Skew:                           0.033   Prob(JB):                        0.933\n",
       "Kurtosis:                       2.719   Cond. No.                     1.33e+06\n",
       "==============================================================================\n",
       "\n",
       "Warnings:\n",
       "[1] Standard Errors assume that the covariance matrix of the errors is correctly specified.\n",
       "[2] The condition number is large, 1.33e+06. This might indicate that there are\n",
       "strong multicollinearity or other numerical problems.\n",
       "\"\"\""
      ]
     },
     "execution_count": 96,
     "metadata": {},
     "output_type": "execute_result"
    }
   ],
   "source": [
    "dat = [i.strip().split() for i in open(\"../cableTV.dat\").readlines()]\n",
    "df=pd.DataFrame(dat[1:],columns=dat[0]).set_index('obs')\n",
    "df[['renta','ninos','adultos','tvtot','valor']] = df[['renta' ,'ninos','adultos','tvtot','valor']].apply(pd.to_numeric)\n",
    "modelo = ols('renta ~ ninos + adultos + tvtot + valor', df).fit()\n",
    "summary=modelo.summary()\n",
    "summary"
   ]
  },
  {
   "cell_type": "markdown",
   "metadata": {},
   "source": [
    "**a)** Cómo se puede ver la significancia de la regresión es **1.77e-06** por lo que se rechaza $H0$\n",
    "\n",
    "**b)** veamos la tabla de ANOVA:"
   ]
  },
  {
   "cell_type": "code",
   "execution_count": 52,
   "metadata": {},
   "outputs": [
    {
     "data": {
      "text/html": [
       "<div>\n",
       "<style scoped>\n",
       "    .dataframe tbody tr th:only-of-type {\n",
       "        vertical-align: middle;\n",
       "    }\n",
       "\n",
       "    .dataframe tbody tr th {\n",
       "        vertical-align: top;\n",
       "    }\n",
       "\n",
       "    .dataframe thead th {\n",
       "        text-align: right;\n",
       "    }\n",
       "</style>\n",
       "<table border=\"1\" class=\"dataframe\">\n",
       "  <thead>\n",
       "    <tr style=\"text-align: right;\">\n",
       "      <th></th>\n",
       "      <th>df</th>\n",
       "      <th>sum_sq</th>\n",
       "      <th>mean_sq</th>\n",
       "      <th>F</th>\n",
       "      <th>PR(&gt;F)</th>\n",
       "    </tr>\n",
       "  </thead>\n",
       "  <tbody>\n",
       "    <tr>\n",
       "      <th>ninos</th>\n",
       "      <td>1.0</td>\n",
       "      <td>793.077032</td>\n",
       "      <td>793.077032</td>\n",
       "      <td>5.513842</td>\n",
       "      <td>0.024646</td>\n",
       "    </tr>\n",
       "    <tr>\n",
       "      <th>adultos</th>\n",
       "      <td>1.0</td>\n",
       "      <td>2198.824055</td>\n",
       "      <td>2198.824055</td>\n",
       "      <td>15.287251</td>\n",
       "      <td>0.000405</td>\n",
       "    </tr>\n",
       "    <tr>\n",
       "      <th>tvtot</th>\n",
       "      <td>1.0</td>\n",
       "      <td>1841.656946</td>\n",
       "      <td>1841.656946</td>\n",
       "      <td>12.804059</td>\n",
       "      <td>0.001037</td>\n",
       "    </tr>\n",
       "    <tr>\n",
       "      <th>valor</th>\n",
       "      <td>1.0</td>\n",
       "      <td>2459.757626</td>\n",
       "      <td>2459.757626</td>\n",
       "      <td>17.101383</td>\n",
       "      <td>0.000211</td>\n",
       "    </tr>\n",
       "    <tr>\n",
       "      <th>Residual</th>\n",
       "      <td>35.0</td>\n",
       "      <td>5034.184341</td>\n",
       "      <td>143.833838</td>\n",
       "      <td>NaN</td>\n",
       "      <td>NaN</td>\n",
       "    </tr>\n",
       "  </tbody>\n",
       "</table>\n",
       "</div>"
      ],
      "text/plain": [
       "            df       sum_sq      mean_sq          F    PR(>F)\n",
       "ninos      1.0   793.077032   793.077032   5.513842  0.024646\n",
       "adultos    1.0  2198.824055  2198.824055  15.287251  0.000405\n",
       "tvtot      1.0  1841.656946  1841.656946  12.804059  0.001037\n",
       "valor      1.0  2459.757626  2459.757626  17.101383  0.000211\n",
       "Residual  35.0  5034.184341   143.833838        NaN       NaN"
      ]
     },
     "execution_count": 52,
     "metadata": {},
     "output_type": "execute_result"
    }
   ],
   "source": [
    "anova=stats.anova_lm(modelo)\n",
    "anova"
   ]
  },
  {
   "cell_type": "code",
   "execution_count": 94,
   "metadata": {},
   "outputs": [
    {
     "data": {
      "text/plain": [
       "12.676633925945362"
      ]
     },
     "execution_count": 94,
     "metadata": {},
     "output_type": "execute_result"
    }
   ],
   "source": [
    "cmreg=sum(anova['sum_sq'].iloc[:-1])/4\n",
    "cmres=anova['mean_sq'].loc['Residual']\n",
    "cmreg/cmres"
   ]
  },
  {
   "cell_type": "code",
   "execution_count": 164,
   "metadata": {},
   "outputs": [
    {
     "data": {
      "text/plain": [
       "3.183699458771092"
      ]
     },
     "execution_count": 164,
     "metadata": {},
     "output_type": "execute_result"
    }
   ],
   "source": [
    ".0001/3.141e-5)"
   ]
  },
  {
   "cell_type": "code",
   "execution_count": 153,
   "metadata": {},
   "outputs": [
    {
     "data": {
      "text/plain": [
       "3.184713375796179"
      ]
     },
     "execution_count": 153,
     "metadata": {},
     "output_type": "execute_result"
    }
   ],
   "source": [
    "float(summary.tables[1].data[5][1].replace(' ',''))/float(summary.tables[1].data[5][2])"
   ]
  },
  {
   "cell_type": "markdown",
   "metadata": {},
   "source": [
    "12.67 es el valor del estadístico $F0$ de la regresión equivalente a la división entre la suma de cuadrados medios de cada regresor  y la suma de cuadrados medios de los residuales.\n",
    "\n",
    "**c)** Calculemos $ t_{4}^2$:"
   ]
  },
  {
   "cell_type": "code",
   "execution_count": 168,
   "metadata": {},
   "outputs": [
    {
     "data": {
      "text/plain": [
       "3.184713375796179"
      ]
     },
     "execution_count": 168,
     "metadata": {},
     "output_type": "execute_result"
    }
   ],
   "source": [
    "t=(float(summary.tables[1].data[5][1].replace(' ',''))/float(summary.tables[1].data[5][2]))\n",
    "t"
   ]
  },
  {
   "cell_type": "markdown",
   "metadata": {},
   "source": [
    "Cómo podemos ver no es el valor correcto de $t_{4}$, probablemente por error de redondeo, al elevarlo al cuadrado tampoco aproxima a $F_{4}$"
   ]
  },
  {
   "cell_type": "code",
   "execution_count": 169,
   "metadata": {},
   "outputs": [
    {
     "data": {
      "text/plain": [
       "10.142399285975094"
      ]
     },
     "execution_count": 169,
     "metadata": {},
     "output_type": "execute_result"
    }
   ],
   "source": [
    "t**2"
   ]
  },
  {
   "cell_type": "markdown",
   "metadata": {},
   "source": [
    "**d)** La prueba $t_{i}$ muestra la significancia para solamente 2 grupos frente a incluir el regresor i contra los anteriores, mientras que la prueba $F_{i}$ prueba la significancia frente a muchos grupos. Y los valores p son distinto puesto que para el regresor 1 la prueba t muestra la significancia de incluir el regresor 1 o no, y la f la de incluir el regresor 1 frente al resto."
   ]
  },
  {
   "cell_type": "markdown",
   "metadata": {},
   "source": [
    "**e)** hagamos todos los ajustes:"
   ]
  },
  {
   "cell_type": "code",
   "execution_count": 184,
   "metadata": {},
   "outputs": [],
   "source": [
    "modelo1 = ols('renta ~ valor+ninos + adultos + tvtot', df).fit()\n",
    "modelo2= ols('renta ~ tvtot + valor+ninos + adultos', df).fit()\n",
    "modelo3 = ols('renta ~ adultos + tvtot + valor + ninos', df).fit()\n",
    "modelo4 = ols('renta ~ ninos + adultos + tvtot + valor', df).fit()"
   ]
  },
  {
   "cell_type": "markdown",
   "metadata": {},
   "source": [
    "Escojamos un modelo al azar y verifiquemos su valor $t^2$ para su último regresor:"
   ]
  },
  {
   "cell_type": "code",
   "execution_count": 205,
   "metadata": {},
   "outputs": [
    {
     "data": {
      "text/plain": [
       "3.2292089999999996"
      ]
     },
     "execution_count": 205,
     "metadata": {},
     "output_type": "execute_result"
    }
   ],
   "source": [
    "float(modelo3.summary().tables[1].data[5][3])**2"
   ]
  },
  {
   "cell_type": "code",
   "execution_count": 206,
   "metadata": {},
   "outputs": [
    {
     "data": {
      "text/plain": [
       "3.229126427343441"
      ]
     },
     "execution_count": 206,
     "metadata": {},
     "output_type": "execute_result"
    }
   ],
   "source": [
    "anova=stats.anova_lm(modelo3)\n",
    "anova['F'].loc['ninos']"
   ]
  },
  {
   "cell_type": "markdown",
   "metadata": {},
   "source": [
    "Efectivamente son iguales.\n",
    "\n",
    "## Ejercicio 11"
   ]
  },
  {
   "cell_type": "code",
   "execution_count": 214,
   "metadata": {},
   "outputs": [
    {
     "data": {
      "text/html": [
       "<div>\n",
       "<style scoped>\n",
       "    .dataframe tbody tr th:only-of-type {\n",
       "        vertical-align: middle;\n",
       "    }\n",
       "\n",
       "    .dataframe tbody tr th {\n",
       "        vertical-align: top;\n",
       "    }\n",
       "\n",
       "    .dataframe thead th {\n",
       "        text-align: right;\n",
       "    }\n",
       "</style>\n",
       "<table border=\"1\" class=\"dataframe\">\n",
       "  <thead>\n",
       "    <tr style=\"text-align: right;\">\n",
       "      <th></th>\n",
       "      <th>y</th>\n",
       "      <th>x1</th>\n",
       "      <th>x2</th>\n",
       "      <th>x3</th>\n",
       "      <th>x4</th>\n",
       "    </tr>\n",
       "    <tr>\n",
       "      <th>id</th>\n",
       "      <th></th>\n",
       "      <th></th>\n",
       "      <th></th>\n",
       "      <th></th>\n",
       "      <th></th>\n",
       "    </tr>\n",
       "  </thead>\n",
       "  <tbody>\n",
       "    <tr>\n",
       "      <th>0</th>\n",
       "      <td>70</td>\n",
       "      <td>15</td>\n",
       "      <td>240</td>\n",
       "      <td>80</td>\n",
       "      <td>12</td>\n",
       "    </tr>\n",
       "    <tr>\n",
       "      <th>1</th>\n",
       "      <td>60</td>\n",
       "      <td>10</td>\n",
       "      <td>240</td>\n",
       "      <td>80</td>\n",
       "      <td>12</td>\n",
       "    </tr>\n",
       "    <tr>\n",
       "      <th>2</th>\n",
       "      <td>89</td>\n",
       "      <td>15</td>\n",
       "      <td>220</td>\n",
       "      <td>80</td>\n",
       "      <td>12</td>\n",
       "    </tr>\n",
       "    <tr>\n",
       "      <th>3</th>\n",
       "      <td>81</td>\n",
       "      <td>10</td>\n",
       "      <td>220</td>\n",
       "      <td>80</td>\n",
       "      <td>12</td>\n",
       "    </tr>\n",
       "    <tr>\n",
       "      <th>4</th>\n",
       "      <td>69</td>\n",
       "      <td>15</td>\n",
       "      <td>240</td>\n",
       "      <td>50</td>\n",
       "      <td>12</td>\n",
       "    </tr>\n",
       "  </tbody>\n",
       "</table>\n",
       "</div>"
      ],
      "text/plain": [
       "     y  x1   x2  x3  x4\n",
       "id                     \n",
       "0   70  15  240  80  12\n",
       "1   60  10  240  80  12\n",
       "2   89  15  220  80  12\n",
       "3   81  10  220  80  12\n",
       "4   69  15  240  50  12"
      ]
     },
     "execution_count": 214,
     "metadata": {},
     "output_type": "execute_result"
    }
   ],
   "source": [
    "dat =[]\n",
    "for i in open(\"l6.dat\").readlines():\n",
    "    linea=i.strip().split()\n",
    "    dat.append(linea[1:])\n",
    "df=pd.DataFrame(dat[1:],columns=dat[0]).set_index('id')\n",
    "df.head()"
   ]
  },
  {
   "cell_type": "markdown",
   "metadata": {},
   "source": [
    "**a)** Leamos los datos y ajustemos el modelo:"
   ]
  },
  {
   "cell_type": "code",
   "execution_count": 270,
   "metadata": {},
   "outputs": [
    {
     "data": {
      "text/html": [
       "<table class=\"simpletable\">\n",
       "<caption>OLS Regression Results</caption>\n",
       "<tr>\n",
       "  <th>Dep. Variable:</th>            <td>y</td>        <th>  R-squared:         </th> <td>   0.964</td>\n",
       "</tr>\n",
       "<tr>\n",
       "  <th>Model:</th>                   <td>OLS</td>       <th>  Adj. R-squared:    </th> <td>   0.951</td>\n",
       "</tr>\n",
       "<tr>\n",
       "  <th>Method:</th>             <td>Least Squares</td>  <th>  F-statistic:       </th> <td>   73.92</td>\n",
       "</tr>\n",
       "<tr>\n",
       "  <th>Date:</th>             <td>Wed, 04 Dec 2019</td> <th>  Prob (F-statistic):</th> <td>7.09e-08</td>\n",
       "</tr>\n",
       "<tr>\n",
       "  <th>Time:</th>                 <td>19:45:11</td>     <th>  Log-Likelihood:    </th> <td> -37.344</td>\n",
       "</tr>\n",
       "<tr>\n",
       "  <th>No. Observations:</th>      <td>    16</td>      <th>  AIC:               </th> <td>   84.69</td>\n",
       "</tr>\n",
       "<tr>\n",
       "  <th>Df Residuals:</th>          <td>    11</td>      <th>  BIC:               </th> <td>   88.55</td>\n",
       "</tr>\n",
       "<tr>\n",
       "  <th>Df Model:</th>              <td>     4</td>      <th>                     </th>     <td> </td>   \n",
       "</tr>\n",
       "<tr>\n",
       "  <th>Covariance Type:</th>      <td>nonrobust</td>    <th>                     </th>     <td> </td>   \n",
       "</tr>\n",
       "</table>\n",
       "<table class=\"simpletable\">\n",
       "<tr>\n",
       "      <td></td>         <th>coef</th>     <th>std err</th>      <th>t</th>      <th>P>|t|</th>  <th>[0.025</th>    <th>0.975]</th>  \n",
       "</tr>\n",
       "<tr>\n",
       "  <th>Intercept</th> <td>   72.2500</td> <td>    0.753</td> <td>   95.970</td> <td> 0.000</td> <td>   70.593</td> <td>   73.907</td>\n",
       "</tr>\n",
       "<tr>\n",
       "  <th>x1b</th>       <td>   -4.0000</td> <td>    0.753</td> <td>   -5.313</td> <td> 0.000</td> <td>   -5.657</td> <td>   -2.343</td>\n",
       "</tr>\n",
       "<tr>\n",
       "  <th>x2b</th>       <td>   12.0000</td> <td>    0.753</td> <td>   15.940</td> <td> 0.000</td> <td>   10.343</td> <td>   13.657</td>\n",
       "</tr>\n",
       "<tr>\n",
       "  <th>x3b</th>       <td>   -0.1250</td> <td>    0.753</td> <td>   -0.166</td> <td> 0.871</td> <td>   -1.782</td> <td>    1.532</td>\n",
       "</tr>\n",
       "<tr>\n",
       "  <th>x4b</th>       <td>   -2.7500</td> <td>    0.753</td> <td>   -3.653</td> <td> 0.004</td> <td>   -4.407</td> <td>   -1.093</td>\n",
       "</tr>\n",
       "</table>\n",
       "<table class=\"simpletable\">\n",
       "<tr>\n",
       "  <th>Omnibus:</th>       <td> 1.312</td> <th>  Durbin-Watson:     </th> <td>   1.696</td>\n",
       "</tr>\n",
       "<tr>\n",
       "  <th>Prob(Omnibus):</th> <td> 0.519</td> <th>  Jarque-Bera (JB):  </th> <td>   0.806</td>\n",
       "</tr>\n",
       "<tr>\n",
       "  <th>Skew:</th>          <td> 0.033</td> <th>  Prob(JB):          </th> <td>   0.668</td>\n",
       "</tr>\n",
       "<tr>\n",
       "  <th>Kurtosis:</th>      <td> 1.902</td> <th>  Cond. No.          </th> <td>    1.00</td>\n",
       "</tr>\n",
       "</table><br/><br/>Warnings:<br/>[1] Standard Errors assume that the covariance matrix of the errors is correctly specified."
      ],
      "text/plain": [
       "<class 'statsmodels.iolib.summary.Summary'>\n",
       "\"\"\"\n",
       "                            OLS Regression Results                            \n",
       "==============================================================================\n",
       "Dep. Variable:                      y   R-squared:                       0.964\n",
       "Model:                            OLS   Adj. R-squared:                  0.951\n",
       "Method:                 Least Squares   F-statistic:                     73.92\n",
       "Date:                Wed, 04 Dec 2019   Prob (F-statistic):           7.09e-08\n",
       "Time:                        19:45:11   Log-Likelihood:                -37.344\n",
       "No. Observations:                  16   AIC:                             84.69\n",
       "Df Residuals:                      11   BIC:                             88.55\n",
       "Df Model:                           4                                         \n",
       "Covariance Type:            nonrobust                                         \n",
       "==============================================================================\n",
       "                 coef    std err          t      P>|t|      [0.025      0.975]\n",
       "------------------------------------------------------------------------------\n",
       "Intercept     72.2500      0.753     95.970      0.000      70.593      73.907\n",
       "x1b           -4.0000      0.753     -5.313      0.000      -5.657      -2.343\n",
       "x2b           12.0000      0.753     15.940      0.000      10.343      13.657\n",
       "x3b           -0.1250      0.753     -0.166      0.871      -1.782       1.532\n",
       "x4b           -2.7500      0.753     -3.653      0.004      -4.407      -1.093\n",
       "==============================================================================\n",
       "Omnibus:                        1.312   Durbin-Watson:                   1.696\n",
       "Prob(Omnibus):                  0.519   Jarque-Bera (JB):                0.806\n",
       "Skew:                           0.033   Prob(JB):                        0.668\n",
       "Kurtosis:                       1.902   Cond. No.                         1.00\n",
       "==============================================================================\n",
       "\n",
       "Warnings:\n",
       "[1] Standard Errors assume that the covariance matrix of the errors is correctly specified.\n",
       "\"\"\""
      ]
     },
     "execution_count": 270,
     "metadata": {},
     "output_type": "execute_result"
    }
   ],
   "source": [
    "df[['y','x1','x2','x3','x4']] = df[['y','x1','x2','x3','x4']].apply(pd.to_numeric)\n",
    "modelo = ols('y ~ x1b + x2b + x3b + x4b', df).fit()\n",
    "summary=modelo.summary()\n",
    "summary"
   ]
  },
  {
   "cell_type": "markdown",
   "metadata": {},
   "source": [
    "Efectivamente **x3**, la presión es el único regresor que parece no ser significativo."
   ]
  },
  {
   "cell_type": "markdown",
   "metadata": {},
   "source": [
    "**b)** Averigüemos si los regresores son ortogonales:"
   ]
  },
  {
   "cell_type": "code",
   "execution_count": 257,
   "metadata": {},
   "outputs": [
    {
     "data": {
      "text/plain": [
       "array([[16,  0,  0,  0],\n",
       "       [ 0, 16,  0,  0],\n",
       "       [ 0,  0, 16,  0],\n",
       "       [ 0,  0,  0, 16]])"
      ]
     },
     "execution_count": 257,
     "metadata": {},
     "output_type": "execute_result"
    }
   ],
   "source": [
    "df['x1b'] = df['x1'].apply(lambda x: -1 if x == 15 else 1 )\n",
    "df['x2b'] = df['x2'].apply(lambda x: -1 if x == 240 else 1 )\n",
    "df['x3b'] = df['x3'].apply(lambda x: -1 if x == 80 else 1 )\n",
    "df['x4b'] = df['x4'].apply(lambda x: -1 if x == 12 else 1 )\n",
    "X=df[['x1b','x2b','x3b','x4b']].values\n",
    "X.T.dot(X)"
   ]
  },
  {
   "cell_type": "markdown",
   "metadata": {},
   "source": [
    "Como podemos ver son ortogonales entre ellos."
   ]
  },
  {
   "cell_type": "markdown",
   "metadata": {},
   "source": [
    "**c)** Veamos la ANOVA:"
   ]
  },
  {
   "cell_type": "code",
   "execution_count": 260,
   "metadata": {},
   "outputs": [
    {
     "data": {
      "text/html": [
       "<div>\n",
       "<style scoped>\n",
       "    .dataframe tbody tr th:only-of-type {\n",
       "        vertical-align: middle;\n",
       "    }\n",
       "\n",
       "    .dataframe tbody tr th {\n",
       "        vertical-align: top;\n",
       "    }\n",
       "\n",
       "    .dataframe thead th {\n",
       "        text-align: right;\n",
       "    }\n",
       "</style>\n",
       "<table border=\"1\" class=\"dataframe\">\n",
       "  <thead>\n",
       "    <tr style=\"text-align: right;\">\n",
       "      <th></th>\n",
       "      <th>df</th>\n",
       "      <th>sum_sq</th>\n",
       "      <th>mean_sq</th>\n",
       "      <th>F</th>\n",
       "      <th>PR(&gt;F)</th>\n",
       "    </tr>\n",
       "  </thead>\n",
       "  <tbody>\n",
       "    <tr>\n",
       "      <th>x1b</th>\n",
       "      <td>1.0</td>\n",
       "      <td>256.00</td>\n",
       "      <td>256.000000</td>\n",
       "      <td>28.230576</td>\n",
       "      <td>2.473357e-04</td>\n",
       "    </tr>\n",
       "    <tr>\n",
       "      <th>x2b</th>\n",
       "      <td>1.0</td>\n",
       "      <td>2304.00</td>\n",
       "      <td>2304.000000</td>\n",
       "      <td>254.075188</td>\n",
       "      <td>6.001831e-09</td>\n",
       "    </tr>\n",
       "    <tr>\n",
       "      <th>x3b</th>\n",
       "      <td>1.0</td>\n",
       "      <td>0.25</td>\n",
       "      <td>0.250000</td>\n",
       "      <td>0.027569</td>\n",
       "      <td>8.711388e-01</td>\n",
       "    </tr>\n",
       "    <tr>\n",
       "      <th>x4b</th>\n",
       "      <td>1.0</td>\n",
       "      <td>121.00</td>\n",
       "      <td>121.000000</td>\n",
       "      <td>13.343358</td>\n",
       "      <td>3.801720e-03</td>\n",
       "    </tr>\n",
       "    <tr>\n",
       "      <th>Residual</th>\n",
       "      <td>11.0</td>\n",
       "      <td>99.75</td>\n",
       "      <td>9.068182</td>\n",
       "      <td>NaN</td>\n",
       "      <td>NaN</td>\n",
       "    </tr>\n",
       "  </tbody>\n",
       "</table>\n",
       "</div>"
      ],
      "text/plain": [
       "            df   sum_sq      mean_sq           F        PR(>F)\n",
       "x1b        1.0   256.00   256.000000   28.230576  2.473357e-04\n",
       "x2b        1.0  2304.00  2304.000000  254.075188  6.001831e-09\n",
       "x3b        1.0     0.25     0.250000    0.027569  8.711388e-01\n",
       "x4b        1.0   121.00   121.000000   13.343358  3.801720e-03\n",
       "Residual  11.0    99.75     9.068182         NaN           NaN"
      ]
     },
     "execution_count": 260,
     "metadata": {},
     "output_type": "execute_result"
    }
   ],
   "source": [
    "stats.anova_lm(modelo)"
   ]
  },
  {
   "cell_type": "code",
   "execution_count": 269,
   "metadata": {},
   "outputs": [
    {
     "name": "stdout",
     "output_type": "stream",
     "text": [
      "28.227968999999998\n",
      "254.0836\n",
      "0.027556000000000004\n",
      "13.344409\n"
     ]
    }
   ],
   "source": [
    "for i in range(2,6):\n",
    "    print(float(modelo.summary().tables[1].data[i][3])**2)"
   ]
  },
  {
   "cell_type": "markdown",
   "metadata": {},
   "source": [
    "Cómo podemos corroborar son exactamente los mismos valores, esto es porque como consecuencia del inciso anterior, cuando los regresores son ortogonales entre ellos, no importa el orden en que aparecen en el modelo, las sumas de cuadrados correspondientes en el anova no cambian."
   ]
  }
 ],
 "metadata": {
  "kernelspec": {
   "display_name": "Python 3",
   "language": "python",
   "name": "python3"
  },
  "language_info": {
   "codemirror_mode": {
    "name": "ipython",
    "version": 3
   },
   "file_extension": ".py",
   "mimetype": "text/x-python",
   "name": "python",
   "nbconvert_exporter": "python",
   "pygments_lexer": "ipython3",
   "version": "3.7.0"
  }
 },
 "nbformat": 4,
 "nbformat_minor": 2
}
